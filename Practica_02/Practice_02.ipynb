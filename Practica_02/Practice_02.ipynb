{
 "cells": [
  {
   "cell_type": "code",
   "execution_count": 1,
   "id": "a11bc273",
   "metadata": {},
   "outputs": [],
   "source": [
    "import numpy as np\n",
    "import pandas as pd\n",
    "import matplotlib.pyplot as plt\n",
    "import cv2"
   ]
  },
  {
   "cell_type": "code",
   "execution_count": 83,
   "id": "8edc2828",
   "metadata": {},
   "outputs": [],
   "source": [
    "image = cv2.imread(\"Python_image/images/hills_two.jpg\",0)"
   ]
  },
  {
   "cell_type": "code",
   "execution_count": 9,
   "id": "1987e62c",
   "metadata": {},
   "outputs": [],
   "source": [
    "cv2.imshow(\"Original Image\",image)\n",
    "cv2.waitKey(0)\n",
    "cv2.destroyAllWindows()"
   ]
  },
  {
   "cell_type": "markdown",
   "id": "82a945d1",
   "metadata": {},
   "source": [
    "***\n",
    "# Cuantización Binaria"
   ]
  },
  {
   "cell_type": "code",
   "execution_count": 84,
   "id": "873a02e5",
   "metadata": {},
   "outputs": [],
   "source": [
    "for y in range(image.shape[0]):\n",
    "    for x in range(image.shape[1]):\n",
    "        if image[y,x] < 128:\n",
    "            image[y,x] = 0\n",
    "        else:\n",
    "            image[y,x] = 255"
   ]
  },
  {
   "cell_type": "code",
   "execution_count": 85,
   "id": "9beda4c5",
   "metadata": {},
   "outputs": [],
   "source": [
    "cv2.imshow(\"Binary Image\",image)\n",
    "cv2.waitKey(0)\n",
    "cv2.destroyAllWindows()"
   ]
  },
  {
   "cell_type": "code",
   "execution_count": 86,
   "id": "e0809db6",
   "metadata": {},
   "outputs": [
    {
     "data": {
      "text/plain": [
       "True"
      ]
     },
     "execution_count": 86,
     "metadata": {},
     "output_type": "execute_result"
    }
   ],
   "source": [
    "cv2.imwrite(\"Python_image/images/Dithering_binary.jpg\",image)"
   ]
  },
  {
   "cell_type": "markdown",
   "id": "73112a38",
   "metadata": {},
   "source": [
    "***\n",
    "# Random Dithering"
   ]
  },
  {
   "cell_type": "code",
   "execution_count": 88,
   "id": "47b5565f",
   "metadata": {},
   "outputs": [],
   "source": [
    "image = cv2.imread(\"Python_image/images/hills_two.jpg\",0)"
   ]
  },
  {
   "cell_type": "code",
   "execution_count": 89,
   "id": "ba6e9c3f",
   "metadata": {},
   "outputs": [],
   "source": [
    "noise = np.random.randint(-32,32,size=image.shape,dtype=np.int32)"
   ]
  },
  {
   "cell_type": "code",
   "execution_count": 90,
   "id": "459e29f9",
   "metadata": {
    "scrolled": true
   },
   "outputs": [],
   "source": [
    "image = image.astype(np.int32)"
   ]
  },
  {
   "cell_type": "code",
   "execution_count": 91,
   "id": "e6a7c3b1",
   "metadata": {},
   "outputs": [],
   "source": [
    "image += noise\n",
    "\n",
    "for y in range(image.shape[0]):\n",
    "    for x in range(image.shape[1]):\n",
    "        if image[y,x] < 128:\n",
    "            image[y,x] = 0\n",
    "        else:\n",
    "            image[y,x] = 255"
   ]
  },
  {
   "cell_type": "code",
   "execution_count": 92,
   "id": "e739a4af",
   "metadata": {},
   "outputs": [],
   "source": [
    "image = image.astype(np.uint8)"
   ]
  },
  {
   "cell_type": "code",
   "execution_count": 93,
   "id": "759e665f",
   "metadata": {},
   "outputs": [],
   "source": [
    "cv2.imshow(\"Binary Image\",image)\n",
    "cv2.waitKey(0)\n",
    "cv2.destroyAllWindows()"
   ]
  },
  {
   "cell_type": "code",
   "execution_count": 94,
   "id": "57b414cc",
   "metadata": {},
   "outputs": [
    {
     "data": {
      "text/plain": [
       "True"
      ]
     },
     "execution_count": 94,
     "metadata": {},
     "output_type": "execute_result"
    }
   ],
   "source": [
    "cv2.imwrite(\"Python_image/images/Dithering_random.jpg\",image)"
   ]
  },
  {
   "cell_type": "markdown",
   "id": "8232bb41",
   "metadata": {},
   "source": [
    "***\n",
    "# Ordered Dithering 2x2"
   ]
  },
  {
   "cell_type": "code",
   "execution_count": 95,
   "id": "42ab9f43",
   "metadata": {},
   "outputs": [],
   "source": [
    "image = cv2.imread(\"Python_image/images/hills_two.jpg\",0)"
   ]
  },
  {
   "cell_type": "code",
   "execution_count": 96,
   "id": "4c38e828",
   "metadata": {},
   "outputs": [],
   "source": [
    "bayern_matrix_two = np.array([[32,96],[128,64]])"
   ]
  },
  {
   "cell_type": "code",
   "execution_count": 67,
   "id": "ba1ba5cc",
   "metadata": {},
   "outputs": [
    {
     "data": {
      "text/plain": [
       "array([[ 32,  96],\n",
       "       [128,  64]])"
      ]
     },
     "execution_count": 67,
     "metadata": {},
     "output_type": "execute_result"
    }
   ],
   "source": [
    "bayern_matrix_two"
   ]
  },
  {
   "cell_type": "code",
   "execution_count": 97,
   "id": "f788026c",
   "metadata": {},
   "outputs": [],
   "source": [
    "for y in range(image.shape[0]):\n",
    "    for x in range(image.shape[1]):\n",
    "        y_matrix_pos = y%2\n",
    "        x_matrix_pos = x%2\n",
    "        \n",
    "        threshold_value = bayern_matrix_two[y_matrix_pos,x_matrix_pos]\n",
    "        \n",
    "        if image[y,x] < threshold_value:\n",
    "            image[y,x] = 0\n",
    "        else:\n",
    "            image[y,x] = 255"
   ]
  },
  {
   "cell_type": "code",
   "execution_count": 98,
   "id": "0471db30",
   "metadata": {},
   "outputs": [],
   "source": [
    "cv2.imshow(\"Ordered Dithering 2x2\",image)\n",
    "cv2.waitKey(0)\n",
    "cv2.destroyAllWindows()"
   ]
  },
  {
   "cell_type": "code",
   "execution_count": 99,
   "id": "54a87237",
   "metadata": {},
   "outputs": [
    {
     "data": {
      "text/plain": [
       "True"
      ]
     },
     "execution_count": 99,
     "metadata": {},
     "output_type": "execute_result"
    }
   ],
   "source": [
    "cv2.imwrite(\"Python_image/images/Dithering_Ordered2x2.jpg\",image)"
   ]
  },
  {
   "cell_type": "markdown",
   "id": "6bae2b92",
   "metadata": {},
   "source": [
    "***\n",
    "# Ordered Dithering 4x4"
   ]
  },
  {
   "cell_type": "code",
   "execution_count": 100,
   "id": "4c77b886",
   "metadata": {},
   "outputs": [],
   "source": [
    "image = cv2.imread(\"Python_image/images/hills_two.jpg\",0)"
   ]
  },
  {
   "cell_type": "code",
   "execution_count": 101,
   "id": "417e1115",
   "metadata": {},
   "outputs": [],
   "source": [
    "bayern_matrix_four = np.array([[8,72,24,88],[104,40,120,56],[32,96,16,80],[128,64,112,48]])"
   ]
  },
  {
   "cell_type": "code",
   "execution_count": 34,
   "id": "6665332f",
   "metadata": {},
   "outputs": [
    {
     "data": {
      "text/plain": [
       "array([[  8,  72,  24,  88],\n",
       "       [104,  40, 120,  56],\n",
       "       [ 32,  96,  16,  80],\n",
       "       [128,  64, 112,  48]])"
      ]
     },
     "execution_count": 34,
     "metadata": {},
     "output_type": "execute_result"
    }
   ],
   "source": [
    "bayern_matrix_four"
   ]
  },
  {
   "cell_type": "code",
   "execution_count": 102,
   "id": "e23b9d85",
   "metadata": {},
   "outputs": [],
   "source": [
    "for y in range(image.shape[0]):\n",
    "    for x in range(image.shape[1]):\n",
    "        y_matrix_pos = y%4\n",
    "        x_matrix_pos = x%4\n",
    "        \n",
    "        threshold_value = bayern_matrix_four[y_matrix_pos,x_matrix_pos]\n",
    "        \n",
    "        if image[y,x] < threshold_value:\n",
    "            image[y,x] = 0\n",
    "        else:\n",
    "            image[y,x] = 255"
   ]
  },
  {
   "cell_type": "code",
   "execution_count": 103,
   "id": "c342440a",
   "metadata": {},
   "outputs": [],
   "source": [
    "cv2.imshow(\"Ordered Dithering 4x4\",image)\n",
    "cv2.waitKey(0)\n",
    "cv2.destroyAllWindows()"
   ]
  },
  {
   "cell_type": "code",
   "execution_count": 104,
   "id": "3248c42c",
   "metadata": {},
   "outputs": [
    {
     "data": {
      "text/plain": [
       "True"
      ]
     },
     "execution_count": 104,
     "metadata": {},
     "output_type": "execute_result"
    }
   ],
   "source": [
    "cv2.imwrite(\"Python_image/images/Dithering_Ordered4x4.jpg\",image)"
   ]
  },
  {
   "cell_type": "markdown",
   "id": "959b7113",
   "metadata": {},
   "source": [
    "***\n",
    "# Error Diffusion Dithering"
   ]
  },
  {
   "cell_type": "code",
   "execution_count": 105,
   "id": "af83a1f3",
   "metadata": {},
   "outputs": [],
   "source": [
    "image = cv2.imread(\"Python_image/images/hills_two.jpg\",0)"
   ]
  },
  {
   "cell_type": "code",
   "execution_count": 106,
   "id": "5881500c",
   "metadata": {},
   "outputs": [
    {
     "name": "stderr",
     "output_type": "stream",
     "text": [
      "<ipython-input-106-464962cea182>:11: RuntimeWarning: overflow encountered in ubyte_scalars\n",
      "  error_value = old_pixel_value - image[y,x]\n"
     ]
    }
   ],
   "source": [
    "for y in range(image.shape[0]):\n",
    "    for x in range(image.shape[1]):\n",
    "        \n",
    "        old_pixel_value = image[y,x]\n",
    "        \n",
    "        if image[y,x] < 128:\n",
    "            image[y,x] = 0\n",
    "        else:\n",
    "            image[y,x] = 255\n",
    "            \n",
    "        error_value = old_pixel_value - image[y,x]\n",
    "        \n",
    "        e16th = error_value/16\n",
    "        \n",
    "        try:\n",
    "            image[y,x+1] = round(image[y,x+1] + (7*e16th))\n",
    "        except:\n",
    "            pass\n",
    "        \n",
    "        try:\n",
    "            image[y+1,x+1] = round(image[y+1,x+1] + e16th)\n",
    "        except:\n",
    "            pass\n",
    "        \n",
    "        try:\n",
    "            image[y+1,x] = round(image[y+1,x] + (5*e16th))\n",
    "        except:\n",
    "            pass\n",
    "            \n",
    "        try:\n",
    "            image[y+1,x-1] = round(image[y+1,x-1] + (3*e16th))\n",
    "        except:\n",
    "            pass"
   ]
  },
  {
   "cell_type": "code",
   "execution_count": 107,
   "id": "ed58aec1",
   "metadata": {},
   "outputs": [],
   "source": [
    "cv2.imshow(\"Error Diffusion Dithering\",image)\n",
    "cv2.waitKey(0)\n",
    "cv2.destroyAllWindows()"
   ]
  },
  {
   "cell_type": "code",
   "execution_count": 82,
   "id": "cded0801",
   "metadata": {},
   "outputs": [
    {
     "data": {
      "text/plain": [
       "True"
      ]
     },
     "execution_count": 82,
     "metadata": {},
     "output_type": "execute_result"
    }
   ],
   "source": [
    "cv2.imwrite(\"Python_image/images/Dithering_error_diffusion.jpg\",image)"
   ]
  }
 ],
 "metadata": {
  "kernelspec": {
   "display_name": "Python 3",
   "language": "python",
   "name": "python3"
  },
  "language_info": {
   "codemirror_mode": {
    "name": "ipython",
    "version": 3
   },
   "file_extension": ".py",
   "mimetype": "text/x-python",
   "name": "python",
   "nbconvert_exporter": "python",
   "pygments_lexer": "ipython3",
   "version": "3.9.4"
  }
 },
 "nbformat": 4,
 "nbformat_minor": 5
}
